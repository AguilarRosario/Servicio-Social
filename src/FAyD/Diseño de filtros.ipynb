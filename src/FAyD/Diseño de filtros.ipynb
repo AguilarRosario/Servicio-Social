{
 "cells": [
  {
   "cell_type": "markdown",
   "metadata": {},
   "source": [
    "# Diseño de filtros Butterworth con topología Sallen-Key"
   ]
  },
  {
   "cell_type": "code",
   "execution_count": 1,
   "metadata": {},
   "outputs": [],
   "source": [
    "import numpy as np"
   ]
  },
  {
   "cell_type": "code",
   "execution_count": 4,
   "metadata": {},
   "outputs": [],
   "source": [
    "def bsk(fc,R,C1,H,alpha=np.sqrt(2),tipo='bajas'):\n",
    "    '''fc: Frecuencia de corte\n",
    "    R: valor de resistencia, en el caso de pasa bajas y altas R3 y en pasa banda R4\n",
    "    C1: Valor de capacitor 1\n",
    "    alpha: valor de alfa dependiendo del orden del filtro\n",
    "    tipo: 'bajas', 'altas' o 'banda' '''\n",
    "    if tipo == 'bajas':\n",
    "        m = alpha**2/4+(H-1)\n",
    "        C2 = m*C1\n",
    "        K  = 2*np.pi*fc*C1\n",
    "        R4 = R/(H-1)\n",
    "        R1 = 2/(alpha*K)\n",
    "        R2 = alpha/(2*m*K)\n",
    "        \n",
    "    elif tipo == 'altas':\n",
    "        alpha = 2*np.pi*alpha*fc\n",
    "        K = 2*np.pi*fc*C1\n",
    "        C2 = C1\n",
    "        R1 = (alpha+np.sqrt(alpha**2+H-1))/(4*K)\n",
    "        R2 = 4/(alpha+np.sqrt(alpha**2+H-1))+1/K\n",
    "        R4 = R/(H-1)\n",
    "        \n",
    "    elif tipo == 'banda':\n",
    "        Q  = 1/alpha\n",
    "        H  = 1/3*(6.5-1/Q)\n",
    "        K  = 2*np.pi*fc*C1\n",
    "        R5 = R/(H-1) \n",
    "        C2 = C1/2\n",
    "        R1 = 2/K\n",
    "        R2 = 2/(3*K)\n",
    "        R3 = 4/K\n",
    "        \n",
    "    if tipo == 'banda':\n",
    "        print('R1=',R1,'\\nR2=',R2,'\\nR3=',R3,'\\nR5=',R5,'\\nC2',C2)\n",
    "    \n",
    "    else:\n",
    "        print('R1=',R1,'\\nR2=',R2,'\\nR4=',R4,'\\nC2=',C2)\n",
    "    "
   ]
  },
  {
   "cell_type": "code",
   "execution_count": 3,
   "metadata": {},
   "outputs": [
    {
     "name": "stdout",
     "output_type": "stream",
     "text": [
      "R1= 32154.15414846808 \n",
      "R2= 7307.762306470017 \n",
      "R4= 588.235294117647 \n",
      "C2= 2.2e-07\n"
     ]
    }
   ],
   "source": [
    "'''Diseño de filtro pasa bajas orden 2 para señal de presión'''\n",
    "\n",
    "bsk(70,1000,100E-9,2.7)"
   ]
  },
  {
   "cell_type": "code",
   "execution_count": 4,
   "metadata": {},
   "outputs": [
    {
     "name": "stdout",
     "output_type": "stream",
     "text": [
      "R1= 55457.09938303772 \n",
      "R2= 18189.2984140291 \n",
      "R4= 1099.9999999999998 \n",
      "C2= 4.4642102250000004e-08\n"
     ]
    }
   ],
   "source": [
    "'''Primera etapa de filtro pasa bajas orden 4 para señal de presión'''\n",
    "\n",
    "bsk(75,330,100E-9,1.3,0.7653)"
   ]
  },
  {
   "cell_type": "code",
   "execution_count": 5,
   "metadata": {},
   "outputs": [
    {
     "name": "stdout",
     "output_type": "stream",
     "text": [
      "R1= 104408.22781600407 \n",
      "R2= 53893.17384909792 \n",
      "R4= 412.5 \n",
      "C2= 3.6376974095e-08\n"
     ]
    }
   ],
   "source": [
    "'''Segunda etapa de filtro pasa bajas orden 4 para señal de presión'''\n",
    "\n",
    "bsk(75,330,22E-9,1.8,1.8477)"
   ]
  },
  {
   "cell_type": "code",
   "execution_count": 17,
   "metadata": {},
   "outputs": [
    {
     "name": "stdout",
     "output_type": "stream",
     "text": [
      "R1= 7077778.1528519625 \n",
      "R2= 1591549.6557846381 \n",
      "R4= 1099.9999999999998 \n",
      "C2= 1e-07\n"
     ]
    }
   ],
   "source": [
    "'''Diseño de filtro pasa altas orden 2 para señal de EKG contaminada con respiración'''\n",
    "\n",
    "bsk(1,330,100E-9,1.3,np.sqrt(2),'altas')"
   ]
  }
 ],
 "metadata": {
  "kernelspec": {
   "display_name": "Python 3",
   "language": "python",
   "name": "python3"
  },
  "language_info": {
   "codemirror_mode": {
    "name": "ipython",
    "version": 3
   },
   "file_extension": ".py",
   "mimetype": "text/x-python",
   "name": "python",
   "nbconvert_exporter": "python",
   "pygments_lexer": "ipython3",
   "version": "3.7.0"
  }
 },
 "nbformat": 4,
 "nbformat_minor": 2
}
