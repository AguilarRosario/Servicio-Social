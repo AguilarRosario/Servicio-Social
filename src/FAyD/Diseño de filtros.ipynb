{
 "cells": [
  {
   "cell_type": "markdown",
   "metadata": {},
   "source": [
    "# Diseño de filtros Butterworth con topología Sallen-Key"
   ]
  },
  {
   "cell_type": "code",
   "execution_count": 4,
   "metadata": {},
   "outputs": [],
   "source": [
    "import numpy as np\n",
    "from   sympy import Symbol"
   ]
  },
  {
   "cell_type": "code",
   "execution_count": 12,
   "metadata": {},
   "outputs": [],
   "source": [
    "def bsk(fc,R,C1,H,alpha = np.sqrt(2),tipo = 'bajas',HS = 'false'):\n",
    "    '''Función que calcula los componentes de un filtro Butterworth utilizando la topología Sallen-Key.\n",
    "    El cálculo de componentes y de la función de transferencia se basa en el documento 'MT-222' de\n",
    "    Analog Devices, el cual es un mini tutorial sobre el diseño de filtros con topología Sallen-Key.'''\n",
    "    if tipo == 'bajas':\n",
    "        \"\"\"Cálculo de componentes del circuito\"\"\"\n",
    "        m = alpha**2/4+(H-1)\n",
    "        C2 = m*C1\n",
    "        K  = 2*np.pi*fc*C1\n",
    "        R4 = R/(H-1)\n",
    "        R1 = 2/(alpha*K)\n",
    "        R2 = alpha/(2*m*K)\n",
    "        \n",
    "        \"\"\"Cálculo de función de trasnferencia\"\"\"\n",
    "        if HS:\n",
    "            S  = Symbol('s')\n",
    "            n0 = H*(1/(R1*R2*C1*C2))\n",
    "            d2 = 1*(S**2)\n",
    "            d1 = ((1/R1 + 1/R2)*(1/C1) + (1-H)/(R2*C2))*S\n",
    "            d0 = 1/(R1*R2*C1*C2)\n",
    "            Hs = n0/(d2+d1+d0)\n",
    "    \n",
    "    elif tipo == 'altas':\n",
    "        \"\"\"Cálculo de componentes del circuito\"\"\"\n",
    "        alpha = 2*np.pi*alpha*fc\n",
    "        K = 2*np.pi*fc*C1\n",
    "        C2 = C1\n",
    "        R1 = (alpha+np.sqrt(alpha**2+H-1))/(4*K)\n",
    "        R2 = 4/(alpha+np.sqrt(alpha**2+H-1))+1/K\n",
    "        R4 = R/(H-1)\n",
    "        \n",
    "        \"\"\"Cálculo de función de trasnferencia\"\"\"\n",
    "        if HS:\n",
    "            S  = Symbol('s')\n",
    "            n0 = H*S**2\n",
    "            d2 = 1*(S**2)\n",
    "            d1 = ((C2/R2 + C1/R2 + (1-H)*(C2/R1))/(C1*C2))*S\n",
    "            d0 = 1/(R1*R2*C1*C2)\n",
    "            Hs = n0/(d2+d1+d0)            \n",
    "\n",
    "    elif tipo == 'banda':\n",
    "        \"\"\"Cálculo de componentes del circuito\"\"\"\n",
    "        Q  = 1/alpha\n",
    "        H  = 1/3*(6.5-1/Q)\n",
    "        K  = 2*np.pi*fc*C1\n",
    "        R5 = R/(H-1) \n",
    "        C2 = C1/2\n",
    "        R1 = 2/K\n",
    "        R2 = 2/(3*K)\n",
    "        R3 = 4/K\n",
    "        \n",
    "        \"\"\"Cálculo de función de trasnferencia\"\"\"\n",
    "        if HS:\n",
    "            S  = Symbol('s')\n",
    "            n0 = H*(1/(R1*C2))*S\n",
    "            d2 = 1*(S**2)\n",
    "            d1 = ((C1/R3 + (C1+C2)/R1 + C2/R2 + (1-H)*(C1/R2))/(C1*C2))*S\n",
    "            d0 = ((R1+R2)/R1*R2)/(R3*C1*C2)\n",
    "            Hs = n0/(d2+d1+d0)\n",
    "        \n",
    "    if tipo == 'banda':\n",
    "        print('R1=',R1,'\\nR2=',R2,'\\nR3=',R3,'\\nR5=',R5,'\\nC2',C2)\n",
    "        if HS:\n",
    "            print('\\nH(s) = ',Hs)\n",
    "    else:\n",
    "        print('R1=',R1,'\\nR2=',R2,'\\nR4=',R4,'\\nC2=',C2)\n",
    "        if HS:\n",
    "            print('\\nH(s) = ',Hs)"
   ]
  },
  {
   "cell_type": "code",
   "execution_count": 3,
   "metadata": {},
   "outputs": [
    {
     "name": "stdout",
     "output_type": "stream",
     "text": [
      "R1= 32154.15414846808 \n",
      "R2= 7307.762306470017 \n",
      "R4= 588.235294117647 \n",
      "C2= 2.2e-07\n",
      "\n",
      "H(S) =  522299.464905649/(S**2 + 622.003611342171*S + 193444.246261351)\n"
     ]
    }
   ],
   "source": [
    "'''Diseño de filtro pasa bajas orden 2 para señal de presión'''\n",
    "\n",
    "bsk(70,1000,100E-9,2.7,HS = 'true')"
   ]
  },
  {
   "cell_type": "markdown",
   "metadata": {},
   "source": [
    "$$\\text{H(s) = }\\dfrac{522299.464905649}{s^2 + 622.003611342171s + 193444.246261351}$$"
   ]
  },
  {
   "cell_type": "code",
   "execution_count": 4,
   "metadata": {},
   "outputs": [
    {
     "name": "stdout",
     "output_type": "stream",
     "text": [
      "R1= 55457.09938303772 \n",
      "R2= 18189.2984140291 \n",
      "R4= 1099.9999999999998 \n",
      "C2= 4.4642102250000004e-08\n",
      "\n",
      "H(S) =  288685.928731864/(S**2 + 360.63912866884*S + 222066.099024511)\n"
     ]
    }
   ],
   "source": [
    "'''Primera etapa de filtro pasa bajas orden 4 para señal de presión'''\n",
    "\n",
    "bsk(75,330,100E-9,1.3,0.7653,HS = 'true')"
   ]
  },
  {
   "cell_type": "markdown",
   "metadata": {},
   "source": [
    "$$\\text{H(s) = }\\dfrac{288685.928731864}{s^2 + 360.63912866884s + 222066.099024511}$$"
   ]
  },
  {
   "cell_type": "code",
   "execution_count": 5,
   "metadata": {},
   "outputs": [
    {
     "name": "stdout",
     "output_type": "stream",
     "text": [
      "R1= 104408.22781600407 \n",
      "R2= 53893.17384909792 \n",
      "R4= 412.5 \n",
      "C2= 3.6376974095e-08\n",
      "\n",
      "H(S) =  399718.978244119/(S**2 + 870.70811190568*S + 222066.099024511)\n"
     ]
    }
   ],
   "source": [
    "'''Segunda etapa de filtro pasa bajas orden 4 para señal de presión'''\n",
    "\n",
    "bsk(75,330,22E-9,1.8,1.8477,HS = 'true')"
   ]
  },
  {
   "cell_type": "markdown",
   "metadata": {},
   "source": [
    "$$\\text{H(s) = }\\dfrac{399718.978244119}{s^2 + 870.70811190568s + 222066.099024511}$$"
   ]
  },
  {
   "cell_type": "code",
   "execution_count": 7,
   "metadata": {},
   "outputs": [
    {
     "name": "stdout",
     "output_type": "stream",
     "text": [
      "R1= 321717.1887659983 \n",
      "R2= 72343.38081654628 \n",
      "R4= 1099.9999999999998 \n",
      "C2= 2.2e-06\n",
      "\n",
      "H(S) =  1.3*S**2/(S**2 + 12.1424697242069*S + 8.87731381430402)\n"
     ]
    }
   ],
   "source": [
    "'''Diseño de filtro pasa altas orden 2 para señal de EKG contaminada con respiración'''\n",
    "\n",
    "bsk(1,330,2.2E-6,1.3,np.sqrt(2),'altas',HS = 'true')"
   ]
  },
  {
   "cell_type": "markdown",
   "metadata": {},
   "source": [
    "$$\\text{H(s) = }\\dfrac{1.3s^2}{s^2 + 12.1424697242069s + 8.87731381430402}$$"
   ]
  },
  {
   "cell_type": "code",
   "execution_count": 9,
   "metadata": {},
   "outputs": [
    {
     "name": "stdout",
     "output_type": "stream",
     "text": [
      "R1= 174265.50646643952 \n",
      "R2= 48229.04738845086 \n",
      "R4= 825.0000000000002 \n",
      "C2= 2.2e-06\n",
      "\n",
      "H(S) =  1.4*S**2/(S**2 + 17.8061077087913*S + 24.5829796501539)\n"
     ]
    }
   ],
   "source": [
    "'''Primera etapa de filtro pasa altas orden 4 para señal de EKG contaminada con respiración'''\n",
    "\n",
    "bsk(1.5,330,2.2E-6,1.4,0.7653,'altas',HS = 'true')"
   ]
  },
  {
   "cell_type": "markdown",
   "metadata": {},
   "source": [
    "$$\\text{H(s) = }\\dfrac{1.4s^2}{s^2 + 17.8061077087913s + 24.5829796501539}$$"
   ]
  },
  {
   "cell_type": "code",
   "execution_count": 10,
   "metadata": {},
   "outputs": [
    {
     "name": "stdout",
     "output_type": "stream",
     "text": [
      "R1= 420035.6492935689 \n",
      "R2= 48228.88545456806 \n",
      "R4= 333.33333333333326 \n",
      "C2= 2.2e-06\n",
      "\n",
      "H(S) =  1.3*S**2/(S**2 + 18.52486327675*S + 10.1990861734871)\n"
     ]
    }
   ],
   "source": [
    "'''Segunda etapa de filtro pasa altas orden 4 para señal de EKG contaminada con respiración'''\n",
    "\n",
    "bsk(1.5,100,2.2E-6,1.3,1.8477,'altas',HS = 'true')"
   ]
  },
  {
   "cell_type": "markdown",
   "metadata": {},
   "source": [
    "$$\\text{H(s) = }\\dfrac{1.3s^2}{s^2 + 18.52486327675s + 10.1990861734871}$$"
   ]
  },
  {
   "cell_type": "code",
   "execution_count": 13,
   "metadata": {},
   "outputs": [
    {
     "name": "stdout",
     "output_type": "stream",
     "text": [
      "Help on function bsk in module __main__:\n",
      "\n",
      "bsk(fc, R, C1, H, alpha=1.4142135623730951, tipo='bajas', HS='false')\n",
      "    Función que calcula los componentes de un filtro Butterworth utilizando la topología Sallen-Key.\n",
      "    El cálculo de componentes y de la función de transferencia se basa en el documento 'MT-222' de\n",
      "    Analog Devices, el cual es un mini tutorial sobre el diseño de filtros con topología Sallen-Key.\n",
      "\n"
     ]
    }
   ],
   "source": [
    "help(bsk)"
   ]
  }
 ],
 "metadata": {
  "kernelspec": {
   "display_name": "Python 3",
   "language": "python",
   "name": "python3"
  },
  "language_info": {
   "codemirror_mode": {
    "name": "ipython",
    "version": 3
   },
   "file_extension": ".py",
   "mimetype": "text/x-python",
   "name": "python",
   "nbconvert_exporter": "python",
   "pygments_lexer": "ipython3",
   "version": "3.7.0"
  }
 },
 "nbformat": 4,
 "nbformat_minor": 2
}
