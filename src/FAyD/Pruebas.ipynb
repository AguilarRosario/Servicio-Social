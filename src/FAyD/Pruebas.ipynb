{
 "cells": [
  {
   "cell_type": "code",
   "execution_count": 1,
   "metadata": {},
   "outputs": [],
   "source": [
    "import numpy             as np\n",
    "import pandas            as pd\n",
    "import matplotlib.pyplot as plt\n",
    "from   scipy             import signal\n",
    "from   scipy.interpolate import interp1d\n",
    "import scipy.io          as scio\n",
    "import sounddevice       as sd\n",
    "import os"
   ]
  },
  {
   "cell_type": "code",
   "execution_count": null,
   "metadata": {},
   "outputs": [],
   "source": [
    "#Cálculo de FFT [dB]\n",
    "def fou(senal,sr):\n",
    "\n",
    "    f  = np.fft.fft(senal)\n",
    "    h  = 20*np.log10(np.abs(f))[:int(f.shape[0]/2)]\n",
    "    w  = np.linspace(0,sr/2,int(f.shape[0]/2))\n",
    "\n",
    "    return h, w"
   ]
  },
  {
   "cell_type": "code",
   "execution_count": null,
   "metadata": {},
   "outputs": [],
   "source": [
    "datapath = os.getcwd()+'\\\\data\\\\'"
   ]
  },
  {
   "cell_type": "code",
   "execution_count": null,
   "metadata": {},
   "outputs": [],
   "source": [
    "BPW = pd.read_csv(datapath + \"BPW.csv\")\n",
    "BPW = BPW.values\n",
    "time = BPW[1:,0]\n",
    "mmHg = BPW[1:,1]\n",
    "\n",
    "l = len(mmHg)\n",
    "print(l)"
   ]
  },
  {
   "cell_type": "code",
   "execution_count": null,
   "metadata": {},
   "outputs": [],
   "source": [
    "mmHg = mmHg.astype(np.float)\n",
    "time = time.astype(np.float)\n",
    "\n",
    "plt.figure(figsize=(30,10))\n",
    "plt.plot(time[0:100],mmHg[0:100])\n",
    "plt.show()\n",
    "\n",
    "deltaT = time[2]-time[1]\n",
    "print(deltaT)\n",
    "sr = 1/deltaT\n",
    "print(sr)"
   ]
  },
  {
   "cell_type": "code",
   "execution_count": null,
   "metadata": {},
   "outputs": [],
   "source": [
    "f = interp1d(time, mmHg,kind='cubic')\n",
    "time_n = np.linspace(time[0], time[-1], num=len(mmHg)*2, endpoint=True)\n",
    "mmHg_n = f(time_n)"
   ]
  },
  {
   "cell_type": "code",
   "execution_count": null,
   "metadata": {},
   "outputs": [],
   "source": [
    "plt.figure(figsize = (30,10))\n",
    "plt.plot(time_n,mmHg_n)\n",
    "plt.xlim(0,1)"
   ]
  },
  {
   "cell_type": "code",
   "execution_count": null,
   "metadata": {},
   "outputs": [],
   "source": [
    "plt.figure(figsize=(30,10))\n",
    "plt.plot(time_n[0:200],mmHg_n[0:200],'bo')\n",
    "plt.plot(time[0:100],mmHg[0:100],'ro')\n",
    "plt.show()"
   ]
  },
  {
   "cell_type": "code",
   "execution_count": null,
   "metadata": {},
   "outputs": [],
   "source": [
    "dT = time_n[2]-time_n[1]\n",
    "print(dT)\n",
    "fm = 1/dT\n",
    "print(fm)"
   ]
  },
  {
   "cell_type": "code",
   "execution_count": null,
   "metadata": {},
   "outputs": [],
   "source": [
    "h,w = fou(mmHg_n,200)\n",
    "\n",
    "plt.figure(figsize=(30,10))\n",
    "plt.plot(w,h)\n",
    "plt.grid(True)\n",
    "plt.show()"
   ]
  },
  {
   "cell_type": "code",
   "execution_count": null,
   "metadata": {},
   "outputs": [],
   "source": [
    "mat = scio.loadmat('fetalPCG_simulatedSNR-4_4dBm.mat')\n",
    "mat.keys()\n",
    "PCG = mat['val'][0]\n",
    "\n",
    "plt.figure(figsize=(30,10))\n",
    "plt.plot(PCG[0:4000])\n",
    "plt.show()"
   ]
  },
  {
   "cell_type": "code",
   "execution_count": null,
   "metadata": {},
   "outputs": [],
   "source": [
    "time = np.linspace(0,len(PCG)/1000,len(PCG))\n",
    "plt.figure(figsize=(30,10))\n",
    "plt.plot(time,PCG)\n",
    "plt.show()"
   ]
  },
  {
   "cell_type": "code",
   "execution_count": null,
   "metadata": {},
   "outputs": [],
   "source": [
    "sd.play(PCG,1000)"
   ]
  },
  {
   "cell_type": "code",
   "execution_count": null,
   "metadata": {},
   "outputs": [],
   "source": [
    "h,w = fou(PCG,1000)\n",
    "\n",
    "plt.figure(figsize=(30,10))\n",
    "plt.plot(w,h)\n",
    "plt.grid(True)\n",
    "plt.axis([0,200,70,140])\n",
    "plt.show()"
   ]
  },
  {
   "cell_type": "code",
   "execution_count": null,
   "metadata": {},
   "outputs": [],
   "source": [
    "ruido = np.sin(time*2*np.pi*80)*1000\n",
    "plt.figure(figsize=(30,10))\n",
    "plt.plot(ruido[0:100])\n",
    "plt.show()\n",
    "\n",
    "h,w = fou(ruido,1000)\n",
    "\n",
    "plt.figure(figsize=(30,10))\n",
    "plt.plot(w,h)\n",
    "plt.grid(True)\n",
    "#plt.axis([0,200,0,80])\n",
    "plt.show()"
   ]
  },
  {
   "cell_type": "code",
   "execution_count": null,
   "metadata": {},
   "outputs": [],
   "source": [
    "PCG_c = PCG + ruido\n",
    "\n",
    "h,w = fou(PCG_c,1000)\n",
    "\n",
    "plt.figure(figsize=(30,10))\n",
    "plt.plot(w,h)\n",
    "plt.grid(True)\n",
    "#plt.axis([0,200,0,80])\n",
    "plt.show()"
   ]
  },
  {
   "cell_type": "code",
   "execution_count": null,
   "metadata": {},
   "outputs": [],
   "source": [
    "sd.play(PCG,1000)"
   ]
  },
  {
   "cell_type": "code",
   "execution_count": null,
   "metadata": {},
   "outputs": [],
   "source": [
    "sd.play(PCG_c,1000)"
   ]
  },
  {
   "cell_type": "code",
   "execution_count": null,
   "metadata": {},
   "outputs": [],
   "source": [
    "fetal = pd.read_csv(\"fetal_ECG.csv\")\n",
    "fetal = fetal.values"
   ]
  },
  {
   "cell_type": "code",
   "execution_count": null,
   "metadata": {},
   "outputs": [],
   "source": [
    "timef = fetal[1:,0]\n",
    "ECG   = fetal[1:,1]"
   ]
  },
  {
   "cell_type": "code",
   "execution_count": null,
   "metadata": {},
   "outputs": [],
   "source": [
    "ECG = ECG.astype(np.float)\n",
    "timef = timef.astype(np.float)\n",
    "\n",
    "\n",
    "print (ECG)"
   ]
  },
  {
   "cell_type": "code",
   "execution_count": null,
   "metadata": {},
   "outputs": [],
   "source": [
    "plt.figure(figsize=(30,10))\n",
    "plt.plot(ECG)"
   ]
  },
  {
   "cell_type": "code",
   "execution_count": null,
   "metadata": {},
   "outputs": [],
   "source": [
    "df = timef[2]-timef[1]\n",
    "print(df)\n",
    "fm = 1/df\n",
    "print(fm)"
   ]
  },
  {
   "cell_type": "code",
   "execution_count": null,
   "metadata": {},
   "outputs": [],
   "source": [
    "h,w = fou(ECG, fm)\n",
    "\n",
    "plt.figure(figsize=(30,10))\n",
    "plt.plot(w,h)\n",
    "plt.grid(True)"
   ]
  },
  {
   "cell_type": "code",
   "execution_count": null,
   "metadata": {},
   "outputs": [],
   "source": [
    "# ECG derivación II\n",
    "\n",
    "ECG = pd.read_csv(datapath + \"ECG.csv\")\n",
    "ECG = ECG.values"
   ]
  },
  {
   "cell_type": "code",
   "execution_count": null,
   "metadata": {},
   "outputs": [],
   "source": [
    "time = ECG[1:,0]\n",
    "senal = ECG[1:,1]\n",
    "\n",
    "senal = senal.astype(np.float)\n",
    "time  = time.astype(np.float)"
   ]
  },
  {
   "cell_type": "code",
   "execution_count": null,
   "metadata": {},
   "outputs": [],
   "source": [
    "plt.figure(figsize = (30,10))\n",
    "plt.plot(time,senal)\n",
    "# plt.xlim(0,5)\n",
    "\n",
    "h,w = fou(senal,1000)\n",
    "plt.figure(figsize = (30,10))\n",
    "plt.plot(w,h)\n",
    "plt.xlim(0,200)\n",
    "plt.grid(True)"
   ]
  },
  {
   "cell_type": "code",
   "execution_count": null,
   "metadata": {},
   "outputs": [],
   "source": [
    "#Senoidal de 0.5 Hz, contaminar con frecuencia respiratoria \n",
    "\n",
    "A = 0.1\n",
    "sen_1 = np.sin(time*2*np.pi*0.4)*A\n",
    "\n",
    "ECG_c = sen_1 + senal\n",
    "plt.figure(figsize = (30,10))\n",
    "plt.plot(time, ECG_c)\n",
    "plt.grid(True)\n",
    "\n",
    "h, w = fou(ECG_c, 1000)\n",
    "plt.figure(figsize = (30,10))\n",
    "plt.plot(w,h)\n",
    "plt.grid(True)"
   ]
  },
  {
   "cell_type": "code",
   "execution_count": null,
   "metadata": {},
   "outputs": [],
   "source": [
    "\"\"\"Acordes\"\"\"\n",
    "\n",
    "Fm = 8000\n",
    "time = np.linspace(0,10,Fm*10)\n",
    "\n",
    "frec = [261.63,277.18,293.66,311.13,329.63,349.23,369.99,392.,415.3,440.0,466.0,493.88,523.25,554.37,587.33,622.25,659.26,698.46,739.99]\n",
    "notes = []\n",
    "\n",
    "for i in range(len(frec)):\n",
    "    tem = np.sin(2*np.pi*time*frec[i])\n",
    "    notes.append(tem.tolist()) \n",
    "    \n",
    "notes = np.asarray(notes, np.float)\n",
    "#print(notes)"
   ]
  },
  {
   "cell_type": "code",
   "execution_count": null,
   "metadata": {},
   "outputs": [],
   "source": [
    "sd.play(notes[0,:],Fm)"
   ]
  },
  {
   "cell_type": "code",
   "execution_count": null,
   "metadata": {},
   "outputs": [],
   "source": [
    "chords = []\n",
    "\n",
    "for i in [0,2,4,5,7,9,11]:\n",
    "    tem = notes[i]+notes[i+4]+notes[i+7]\n",
    "    chords.append(tem.tolist())"
   ]
  },
  {
   "cell_type": "code",
   "execution_count": null,
   "metadata": {},
   "outputs": [],
   "source": [
    "chords = np.asarray(chords, np.float)\n",
    "sd.play(chords[0,:],Fm)"
   ]
  },
  {
   "cell_type": "code",
   "execution_count": null,
   "metadata": {},
   "outputs": [],
   "source": [
    "h,w = fou(chords[0,:],Fm)\n",
    "plt.plot(w,h)\n",
    "plt.xlim(200,500)"
   ]
  },
  {
   "cell_type": "code",
   "execution_count": null,
   "metadata": {},
   "outputs": [],
   "source": [
    "type(chords)"
   ]
  },
  {
   "cell_type": "code",
   "execution_count": null,
   "metadata": {},
   "outputs": [],
   "source": [
    "bidmc = scio.loadmat(datapath + \"bidmc01m.mat\")\n",
    "# bidmc = bidmc.values\n",
    "print('bidmc: ',bidmc.keys())\n",
    "bidmc   = bidmc['val'][0]\n",
    "sr = 125 "
   ]
  },
  {
   "cell_type": "code",
   "execution_count": null,
   "metadata": {},
   "outputs": [],
   "source": [
    "time = np.linspace(0,len(bidmc)/sr,len(bidmc))\n",
    "len(bidmc)"
   ]
  },
  {
   "cell_type": "code",
   "execution_count": null,
   "metadata": {},
   "outputs": [],
   "source": [
    "plt.figure(figsize = (30,10))\n",
    "plt.plot(time,bidmc)\n"
   ]
  },
  {
   "cell_type": "code",
   "execution_count": 6,
   "metadata": {},
   "outputs": [],
   "source": [
    "\"\"\"Último intento de grabar el archivo wav\"\"\"\n",
    "\n",
    "datapath = os.getcwd()+'\\\\data\\\\'\n",
    "\n",
    "ECG = scio.loadmat(datapath+'004bm.mat')\n",
    "ECG      = ECG['val'][0]\n",
    "sr   = 1000\n",
    "t = np.linspace(0,len(ECG)/sr,len(ECG))\n",
    "L = ECG.shape[0]"
   ]
  },
  {
   "cell_type": "code",
   "execution_count": 8,
   "metadata": {},
   "outputs": [],
   "source": [
    "from scipy.io.wavfile  import write"
   ]
  },
  {
   "cell_type": "code",
   "execution_count": 20,
   "metadata": {},
   "outputs": [
    {
     "data": {
      "image/png": "[encoded data removed]",
      "text/plain": [
       "<Figure size 432x288 with 1 Axes>"
      ]
     },
     "metadata": {
      "needs_background": "light"
     },
     "output_type": "display_data"
    }
   ],
   "source": [
    "## Interpolate\n",
    "#TODO evaluar que la frecuencia de muestreo sea menor a 8000 Hz\n",
    "Lw = 8000\n",
    "tw = np.linspace( 0, L/sr, int(L/sr*Lw) )\n",
    " \n",
    "inter = interp1d(t, ECG, kind='cubic')\n",
    "Xfwav = inter(tw)\n",
    " \n",
    " \n",
    "#avoid saturation\n",
    "tol   = 1\n",
    "xmax  = Xfwav.max()\n",
    "xmin  = Xfwav.min()\n",
    "Xfwav = 2*tol*(Xfwav/(xmax-xmin) )\n",
    " \n",
    "## To integer\n",
    "#Xfwav = (Xfwav*2**16/xmax).astype('int')\n",
    " \n",
    "plt.plot(tw, Xfwav, 'r')\n",
    "plt.grid(True)\n",
    "plt.show()\n",
    " \n",
    "# Save\n",
    "write( datapath+'ECG.wav', Lw, Xfwav )"
   ]
  }
 ],
 "metadata": {
  "kernelspec": {
   "display_name": "Python 3",
   "language": "python",
   "name": "python3"
  },
  "language_info": {
   "codemirror_mode": {
    "name": "ipython",
    "version": 3
   },
   "file_extension": ".py",
   "mimetype": "text/x-python",
   "name": "python",
   "nbconvert_exporter": "python",
   "pygments_lexer": "ipython3",
   "version": "3.7.0"
  }
 },
 "nbformat": 4,
 "nbformat_minor": 2
}
