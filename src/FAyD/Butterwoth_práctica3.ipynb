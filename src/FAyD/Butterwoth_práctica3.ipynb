{
 "cells": [
  {
   "cell_type": "markdown",
   "metadata": {},
   "source": [
    "# Práctica 3 Diseño de filtros Butterworth digitales "
   ]
  },
  {
   "cell_type": "code",
   "execution_count": 1,
   "metadata": {},
   "outputs": [],
   "source": [
    "import numpy             as np\n",
    "import matplotlib.pyplot as plt\n",
    "import scipy.signal      as sg \n",
    "import os \n",
    "import sounddevice       as sd"
   ]
  },
  {
   "cell_type": "code",
   "execution_count": null,
   "metadata": {},
   "outputs": [],
   "source": [
    "\"\"\"\"Función para estimación de FFT en dB\"\"\"\n",
    "\n",
    "def fou(senal,sr):\n",
    "    \"\"\"senal: señal a la que desea obtener la transformada de Fourier\n",
    "    sr: Frecuencia de muestreo de la señal\"\"\"\n",
    "    f = np.fft.fft(senal)\n",
    "    h = 20*np.log10(np.abs(f))[:int(f.shape[0]/2)]\n",
    "    w = np.linspace(0,sr/2,int(f.shape[0]/2))\n",
    "    \n",
    "    return h, w"
   ]
  },
  {
   "cell_type": "code",
   "execution_count": null,
   "metadata": {},
   "outputs": [],
   "source": [
    "\"\"\"Función para obtener la caracterización de filtros digitales\"\"\"\n",
    "\n",
    "def freqz_plot(b,a,sr):\n",
    "    \"\"\"ba: coeficientes del diseño del filtro\n",
    "    sr: Frecuencia de muestreo\"\"\"\n",
    "    w,h     = sg.freqz(b,a)\n",
    "    h[h==0] = 1E-5\n",
    "    H       = 20*np.log10(np.abs(h))\n",
    "    W       = np.angle(h)\n",
    "    W       = np.unwrap(W)\n",
    "    W       = np.degrees(W)\n",
    "    w       = np.linspace(0,sr/2,H.shape[0])\n",
    "    \n",
    "    return w,W,H"
   ]
  },
  {
   "cell_type": "code",
   "execution_count": 2,
   "metadata": {},
   "outputs": [],
   "source": [
    "datapath = 'C:\\\\Users\\\\HP desktop\\\\Documents\\\\Trimestre 19I\\\\Servicio social\\\\data\\\\'"
   ]
  },
  {
   "cell_type": "code",
   "execution_count": 3,
   "metadata": {},
   "outputs": [
    {
     "name": "stdout",
     "output_type": "stream",
     "text": [
      "PCG\n",
      "sr\n"
     ]
    }
   ],
   "source": [
    "#Cargar archivo npz de señal de fonocardiograma contaminado\n",
    "\n",
    "PCG = np.load(datapath+'PCG_60.npz')\n",
    "\n",
    "for i in PCG.keys(): #Observar las variables que se encuentran en el archivo npz\n",
    "    print (i)"
   ]
  },
  {
   "cell_type": "code",
   "execution_count": 4,
   "metadata": {},
   "outputs": [],
   "source": [
    "# Asignación de variables que se encuentran en los archivos npz\n",
    "\n",
    "sr  = PCG['sr']\n",
    "PCG = PCG['PCG']"
   ]
  },
  {
   "cell_type": "code",
   "execution_count": null,
   "metadata": {},
   "outputs": [],
   "source": [
    "#REproducción de audio de fonocardiograma contaminado \n",
    "sd.play(PCG,sr)"
   ]
  },
  {
   "cell_type": "code",
   "execution_count": null,
   "metadata": {},
   "outputs": [],
   "source": [
    "# Grafica de la señal \n",
    "\n",
    "t = np.linspace(0,PCG.shape[0]/sr,PCG.shape[0]) # Eje de tiempo\n",
    "\n",
    "plt.figure(figsize=(30,10))\n",
    "plt.plot(t,PCG)\n",
    "plt.title('Señal original de PCG',fontsize=17)\n",
    "plt.xlabel('tiempo [seg]',fontsize=17)\n",
    "plt.ylabel('Voltaje',fontsize=17)\n",
    "plt.grid(True)"
   ]
  },
  {
   "cell_type": "code",
   "execution_count": null,
   "metadata": {},
   "outputs": [],
   "source": [
    "# FFT de la señal contaminada \n",
    "\n",
    "h,w = fou(PCG,sr)\n",
    "plt.figure(figsize=(30,10))\n",
    "plt.plot(w,h)\n",
    "plt.title('FFT de la señal contaminada',fontsize=17)\n",
    "plt.xlabel('Frecuenia [Hz]',fontsize=17)\n",
    "plt.ylabel('Magnitud [dB]',fontsize=17)\n",
    "plt.grid(True)\n"
   ]
  },
  {
   "cell_type": "code",
   "execution_count": null,
   "metadata": {},
   "outputs": [],
   "source": [
    "# Diseño de filtro rechaza banda orden 2\n",
    "\n",
    "n   = 2\n",
    "fc  = 2*np.array( [59.5,60.5] )/sr\n",
    "b,a = sg.butter(n,fc,btype = 'bandstop', output='ba')"
   ]
  },
  {
   "cell_type": "code",
   "execution_count": null,
   "metadata": {},
   "outputs": [],
   "source": [
    "# Filtrado de la señal\n",
    "\n",
    "PCG_2 = sg.lfilter(b,a,PCG)\n",
    "PCG_2 = sg.lfilter(b,a,PCG_2[::-1])[::-1] #Implementación del filtro en fase cero\n",
    "\n",
    "# FFT de señal filtrada \n",
    "\n",
    "h2,w2 = fou(PCG_2,sr)\n",
    "plt.figure(figsize=(30,10))\n",
    "plt.plot(w2,h2)\n",
    "plt.title('FFT de la señal filtrada',fontsize=17)\n",
    "plt.xlabel('Frecuenia [Hz]',fontsize=17)\n",
    "plt.ylabel('Magnitud [dB]',fontsize=17)\n",
    "plt.grid(True)"
   ]
  },
  {
   "cell_type": "code",
   "execution_count": null,
   "metadata": {},
   "outputs": [],
   "source": [
    "\"\"\"Audio de la señal filtrada\"\"\"\n",
    "sd.play(PCG_2,sr)"
   ]
  },
  {
   "cell_type": "code",
   "execution_count": null,
   "metadata": {},
   "outputs": [],
   "source": [
    "# Caracterización del filtro n=2\n",
    "\n",
    "w,W,H = freqz_plot(b,a,sr)\n",
    "plt.figure(figsize=(30,10))\n",
    "plt.plot(w,H)\n",
    "plt.title('Respuesta en frecuencia del filtro',fontsize=17)\n",
    "plt.xlabel('Frecuencia [Hz]',fontsize=17)\n",
    "plt.ylabel('Magnitud [dB]',fontsize=17)\n",
    "plt.grid(True)\n",
    "\n",
    "plt.figure(figsize=(30,10))\n",
    "plt.plot(W,H)\n",
    "plt.title('Respuesta en frecuencia del filtro',fontsize=17)\n",
    "plt.xlabel('Frecuencia [Hz]',fontsize=17)\n",
    "plt.ylabel('Fase [grados]',fontsize=17)\n",
    "plt.grid(True)"
   ]
  },
  {
   "cell_type": "code",
   "execution_count": null,
   "metadata": {},
   "outputs": [],
   "source": [
    "\"\"\"Diseño de filtro orden 4\"\"\"\n",
    "\n",
    "n   = 4\n",
    "fc  = 2*np.array( [59.5,60.5] )/sr\n",
    "b,a = sg.butter(n,fc,btype = 'bandstop', output='ba')"
   ]
  },
  {
   "cell_type": "code",
   "execution_count": null,
   "metadata": {},
   "outputs": [],
   "source": [
    "# Filtrado de la señal\n",
    "\n",
    "PCG_4 = sg.lfilter(b,a,PCG)\n",
    "PCG_4 = sg.lfilter(b,a,PCG_4[::-1])[::-1] #implementación del filtro en fase cero\n",
    "\n",
    "# FFT de señal filtrada \n",
    "\n",
    "h4,w4 = fou(PCG_4,sr)\n",
    "plt.figure(figsize=(30,10))\n",
    "plt.plot(w4,h4)\n",
    "plt.title('FFT de la señal filtrada con filtro \\nn=4',fontsize=17)\n",
    "plt.xlabel('Frecuenia [Hz]',fontsize=17)\n",
    "plt.ylabel('Magnitud [dB]',fontsize=17)\n",
    "plt.grid(True)"
   ]
  },
  {
   "cell_type": "code",
   "execution_count": null,
   "metadata": {},
   "outputs": [],
   "source": [
    "\"\"\"Audio de señal filtrada\"\"\"\n",
    "sd.play(PCG_4,sr)"
   ]
  },
  {
   "cell_type": "code",
   "execution_count": null,
   "metadata": {},
   "outputs": [],
   "source": [
    "# Caracterización del filtro n=4\n",
    "\n",
    "w,W,H = freqz_plot(b,a,sr)\n",
    "plt.figure(figsize=(30,10))\n",
    "plt.plot(w,H)\n",
    "plt.title('Respuesta en frecuencia del filtro \\nn=4',fontsize=17)\n",
    "plt.xlabel('Frecuencia [Hz]',fontsize=17)\n",
    "plt.ylabel('Magnitud [dB]',fontsize=17)\n",
    "plt.grid(True)\n",
    "\n",
    "plt.figure(figsize=(30,10))\n",
    "plt.plot(W,H)\n",
    "plt.title('Respuesta en frecuencia del filtro\\nn=4',fontsize=17)\n",
    "plt.xlabel('Frecuencia [Hz]',fontsize=17)\n",
    "plt.ylabel('Fase [grados]',fontsize=17)\n",
    "plt.grid(True)"
   ]
  }
 ],
 "metadata": {
  "kernelspec": {
   "display_name": "Python 3",
   "language": "python",
   "name": "python3"
  },
  "language_info": {
   "codemirror_mode": {
    "name": "ipython",
    "version": 3
   },
   "file_extension": ".py",
   "mimetype": "text/x-python",
   "name": "python",
   "nbconvert_exporter": "python",
   "pygments_lexer": "ipython3",
   "version": "3.7.0"
  }
 },
 "nbformat": 4,
 "nbformat_minor": 2
}
